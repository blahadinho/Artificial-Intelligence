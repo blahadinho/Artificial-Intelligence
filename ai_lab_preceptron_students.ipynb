{
 "cells": [
  {
   "cell_type": "markdown",
   "metadata": {},
   "source": [
    "# Classification with the perceptron and logistic regression\n",
    "\n",
    "__Individual assignment__\n",
    "\n",
    "Author of the assignment: Pierre Nugues\n",
    "\n",
    "__Student name__: Andreas Timurtas"
   ]
  },
  {
   "cell_type": "markdown",
   "metadata": {},
   "source": [
    "## Objectives\n",
    "\n",
    "The objectives of this second assignment are to:\n",
    "\n",
    "1.  Write a linear regression program using gradient descent;\n",
    "2.  Write linear classifiers using the perceptron algorithm and logistic regression;\n",
    "3.  Experiment variations of the algorithms;\n",
    "4.  Evaluate your classifiers;\n",
    "5.  Experiment with popular tools;\n",
    "6.  Read a scientific article on optimization techniques and comment it;\n",
    "7.  Present your code, results, and comments in a short dissertation."
   ]
  },
  {
   "cell_type": "markdown",
   "metadata": {},
   "source": [
    "## Overview\n",
    "\n",
    "The gradient descent is a basic technique to estimate linear discriminant functions. You will first use the gradient descent method to implement linear regression. You will then program the perceptron algorithm. Finally, you will improve the threshold function with the logistic curve (logistic regression). You will try various configurations and study their influence on the learning speed and accuracy."
   ]
  },
  {
   "cell_type": "markdown",
   "metadata": {},
   "source": [
    "##  Programming language\n",
    "As programming language, you will use Python and write your code in this notebook.\n",
    "\n",
    "You need to have a comprehensive Python distribution such as Anaconda (https://www.anaconda.com/products/individual). This distribution is available on the student computers at the computer science department.\n",
    "Finally, you start a notebook by typing:\n",
    "\n",
    "`jupyter lab`\n",
    "\n",
    "in a terminal window and you select the notebook by clicking on it in the left pane.\n",
    "You run the pieces of code by typing shift+enter."
   ]
  },
  {
   "cell_type": "markdown",
   "metadata": {},
   "source": [
    "## Imports\n",
    "Imports you may use"
   ]
  },
  {
   "cell_type": "code",
   "execution_count": 1,
   "metadata": {},
   "outputs": [],
   "source": [
    "import numpy as np\n",
    "import math\n",
    "import matplotlib.pyplot as plt\n",
    "from matplotlib import cm\n",
    "from mpl_toolkits.mplot3d import Axes3D"
   ]
  },
  {
   "cell_type": "markdown",
   "metadata": {},
   "source": [
    "## Linear Regression\n",
    "\n",
    "You will implement the gradient descent method as explained in pages 719--720 in Russell-Norvig and in the slides to compute regression lines. You will implement the stochastic and batch versions of the algorithm.\n",
    "\n",
    "You must try to do it yourself first. If you encounter difficulties, you also have the solution to this exercise in the section _Solution to linear regression_ below."
   ]
  },
  {
   "cell_type": "markdown",
   "metadata": {},
   "source": [
    "### Your implementation of linear regression\n",
    "You will implement a regression program to predict the counts of _A_'s in a text from the total count of letters. You will apply it on two data sets corresponding to letter counts in the 15 chapters of the French and English versions of _Salammbô_, where the first column is the total count of characters and the second one, the count of A's. \n",
    "\n",
    "Start with either French or English and when your program ready, test it on the other language."
   ]
  },
  {
   "cell_type": "code",
   "execution_count": 2,
   "metadata": {},
   "outputs": [],
   "source": [
    "stat_fr = np.array([[36961, 2503],\n",
    "                      [43621, 2992],\n",
    "                      [15694, 1042],\n",
    "                      [36231, 2487],\n",
    "                      [29945, 2014],\n",
    "                      [40588, 2805],\n",
    "                      [75255, 5062],\n",
    "                      [37709, 2643],\n",
    "                      [30899, 2126],\n",
    "                      [25486, 1784],\n",
    "                      [37497, 2641],\n",
    "                      [40398, 2766],\n",
    "                      [74105, 5047],\n",
    "                      [76725, 5312],\n",
    "                      [18317, 1215]])\n",
    "\n",
    "stat_en = np.array([[35680, 2217],\n",
    "                      [42514, 2761],\n",
    "                      [15162, 990],\n",
    "                      [35298, 2274],\n",
    "                      [29800, 1865],\n",
    "                      [40255, 2606],\n",
    "                      [74532, 4805],\n",
    "                      [37464, 2396],\n",
    "                      [31030, 1993],\n",
    "                      [24843, 1627],\n",
    "                      [36172, 2375],\n",
    "                      [39552, 2560],\n",
    "                      [72545, 4597],\n",
    "                      [75352, 4871],\n",
    "                      [18031, 1119]])"
   ]
  },
  {
   "cell_type": "markdown",
   "metadata": {},
   "source": [
    "From the datasets above, tell what is $\\mathbf{X}$ and $\\mathbf{y}$. Extract:\n",
    "1. The $\\mathbf{X}$ matrix, where you will have a column to model the intercept;\n",
    "2. The $\\mathbf{y}$ vector\n",
    "\n",
    "from these arrays."
   ]
  },
  {
   "cell_type": "code",
   "execution_count": 3,
   "metadata": {},
   "outputs": [],
   "source": [
    "# Write your code here\n",
    "X_fr = stat_fr[:,0]\n",
    "y_fr = stat_fr[:,1]\n",
    "X_en = stat_en[:,0]\n",
    "y_en = stat_en[:,1]"
   ]
  },
  {
   "cell_type": "markdown",
   "metadata": {},
   "source": [
    "Scale the arrays so that they fit in the range [0, 1] on the $x$ and $y$ axes. "
   ]
  },
  {
   "cell_type": "code",
   "execution_count": 4,
   "metadata": {},
   "outputs": [],
   "source": [
    "# Write your code here\n",
    "X_fr = X_fr/max(X_fr)\n",
    "X_en = X_en/max(X_en)\n",
    "y_fr = y_fr/max(y_fr)\n",
    "y_en = y_en/max(y_en)"
   ]
  },
  {
   "cell_type": "markdown",
   "metadata": {},
   "source": [
    "#### Gradient descent"
   ]
  },
  {
   "cell_type": "markdown",
   "metadata": {},
   "source": [
    "Implement the descent functions. You will pass `X`, `y`, the learning rate in the $\\alpha$ variable, the initial weight vector in `w`, the tolerance in the $\\epsilon$ variable, the maximal number of epochs in `epochs`. You will return `w`."
   ]
  },
  {
   "cell_type": "markdown",
   "metadata": {},
   "source": [
    "Batch descent"
   ]
  },
  {
   "cell_type": "code",
   "execution_count": 5,
   "metadata": {},
   "outputs": [],
   "source": [
    "# Write your code here\n",
    "def fit_batch(X, y, alpha, w, epochs=500, epsilon=1.0e-5):\n",
    "    \n",
    "    epoch_nr = 1\n",
    "    loss = 1\n",
    "    while epoch_nr<epochs and loss>epsilon:\n",
    "        w[0] += alpha/len(X) * sum(y-(w[0]+w[1]*X))\n",
    "        w[1] += alpha/len(X) * sum(X*(y-(w[0]+w[1]*X)))\n",
    "        \n",
    "        loss = np.linalg.norm([-2*sum(y-(w[0]+w[1]*X)), -2*sum(X*(y-(w[0]+w[1]*X)))])\n",
    "        epoch_nr+=1\n",
    "    \n",
    "    if epoch_nr == 500:\n",
    "        print('Run out of epochs...\\nThe loss is ', loss)\n",
    "    else:\n",
    "        print('The loss is now below the tolerance\\nEpoch: ', epoch_nr)\n",
    "        print('Loss: ', loss)\n",
    "    return w    "
   ]
  },
  {
   "cell_type": "markdown",
   "metadata": {},
   "source": [
    "Stochastic descent"
   ]
  },
  {
   "cell_type": "code",
   "execution_count": 6,
   "metadata": {},
   "outputs": [],
   "source": [
    "# Write your code here\n",
    "def fit_stoch(X, y, alpha, w, epochs=500, epsilon=1.0e-5):\n",
    "\n",
    "    epoch_nr = 1\n",
    "    loss = 1\n",
    "    while epoch_nr<epochs and loss>epsilon:\n",
    "        for j in range(len(X)):\n",
    "            w[0] += alpha*(y[j]-(w[0]+w[1]*X[j]))\n",
    "            w[1] += alpha*X[j]*(y[j]-(w[0]+w[1]*X[j]))\n",
    "        \n",
    "        loss = np.linalg.norm([-2*sum(y-(w[0]+w[1]*X)), -2*sum(X*(y-(w[0]+w[1]*X)))])\n",
    "        epoch_nr+=1\n",
    "    \n",
    "    if epoch_nr == 500:\n",
    "        print('Run out of epochs...\\nThe loss is ', loss)\n",
    "    else:\n",
    "        print('The loss is now below the tolerance\\nEpoch: ', epoch_nr)\n",
    "        print('Loss: ', loss)\n",
    "    return w      \n",
    "    "
   ]
  },
  {
   "cell_type": "markdown",
   "metadata": {},
   "source": [
    "#### Applying batch descent"
   ]
  },
  {
   "cell_type": "markdown",
   "metadata": {},
   "source": [
    "Apply the batch descent and print the final weight values "
   ]
  },
  {
   "cell_type": "markdown",
   "metadata": {},
   "source": [
    "Visualize the points of your dataset as well as the regression lines you obtain using matplotlib or another similar program."
   ]
  },
  {
   "cell_type": "code",
   "execution_count": 7,
   "metadata": {},
   "outputs": [
    {
     "name": "stdout",
     "output_type": "stream",
     "text": [
      "The loss is now below the tolerance\n",
      "Epoch:  405\n",
      "Loss:  9.839474055467136e-06\n"
     ]
    },
    {
     "data": {
      "image/png": "[encoded data removed]",
      "text/plain": [
       "<Figure size 432x288 with 1 Axes>"
      ]
     },
     "metadata": {
      "needs_background": "light"
     },
     "output_type": "display_data"
    }
   ],
   "source": [
    "# Write your code here\n",
    "w_fr_batch = fit_batch(X_fr, y_fr, 0.5, [1,1])\n",
    "x = np.linspace(0,1,10)\n",
    "y = w_fr_batch[0] + w_fr_batch[1]*x\n",
    "plt.plot(X_fr, y_fr, '.')\n",
    "plt.plot(x,y)\n",
    "plt.show()"
   ]
  },
  {
   "cell_type": "code",
   "execution_count": 10,
   "metadata": {},
   "outputs": [
    {
     "name": "stdout",
     "output_type": "stream",
     "text": [
      "The loss is now below the tolerance\n",
      "Epoch:  404\n",
      "Loss:  9.831157418106068e-06\n"
     ]
    },
    {
     "data": {
      "image/png": "[encoded data removed]",
      "text/plain": [
       "<Figure size 432x288 with 1 Axes>"
      ]
     },
     "metadata": {
      "needs_background": "light"
     },
     "output_type": "display_data"
    }
   ],
   "source": [
    "# Write your code here\n",
    "w_en_batch = fit_batch(X_en, y_en, 0.5, [1,1])\n",
    "x = np.linspace(0,1,10)\n",
    "y = w_en_batch[0] + w_en_batch[1]*x\n",
    "plt.plot(X_en, y_en, '.')\n",
    "plt.plot(x,y)\n",
    "plt.show()"
   ]
  },
  {
   "cell_type": "markdown",
   "metadata": {},
   "source": [
    "#### Stochastic descent"
   ]
  },
  {
   "cell_type": "markdown",
   "metadata": {},
   "source": [
    "Visualize the points of your dataset as well as the regression lines you obtain using matplotlib or another similar program."
   ]
  },
  {
   "cell_type": "code",
   "execution_count": 8,
   "metadata": {
    "scrolled": true
   },
   "outputs": [
    {
     "name": "stdout",
     "output_type": "stream",
     "text": [
      "Run out of epochs...\n",
      "The loss is  0.14015442990063975\n"
     ]
    },
    {
     "data": {
      "image/png": "[encoded data removed]",
      "text/plain": [
       "<Figure size 432x288 with 1 Axes>"
      ]
     },
     "metadata": {
      "needs_background": "light"
     },
     "output_type": "display_data"
    }
   ],
   "source": [
    "# Write your code here\n",
    "w_fr_stoch = fit_stoch(X_fr, y_fr, 1, [1,1])\n",
    "x = np.linspace(0,1,10)\n",
    "y_stoch = w_fr_stoch[0] + w_fr_stoch[1]*x\n",
    "plt.plot(X_fr, y_fr, '.')\n",
    "plt.plot(x,y)\n",
    "plt.show()"
   ]
  },
  {
   "cell_type": "code",
   "execution_count": 47,
   "metadata": {},
   "outputs": [
    {
     "name": "stdout",
     "output_type": "stream",
     "text": [
      "Run out of epochs...\n",
      "The loss is  0.002926556237599318\n",
      "The loss is now below the tolerance\n",
      "Epoch:  404\n",
      "Loss:  9.831157418106068e-06\n"
     ]
    },
    {
     "data": {
      "image/png": "[encoded data removed]",
      "text/plain": [
       "<Figure size 432x288 with 1 Axes>"
      ]
     },
     "metadata": {
      "needs_background": "light"
     },
     "output_type": "display_data"
    }
   ],
   "source": [
    "# Write your code here\n",
    "w_en_stoch = fit_stoch(X_en, y_en, 0.1, [1,1])\n",
    "w_en_batch = fit_batch(X_en, y_en, 0.5, [1,1])\n",
    "x = np.linspace(0,1,10)\n",
    "y_stoch = w_en_stoch[0] + w_en_stoch[1]*x\n",
    "y_batch = w_en_batch[0] + w_en_batch[1]*x\n",
    "plt.plot(X_en, y_en, '.')\n",
    "plt.plot(x,y_stoch)\n",
    "plt.plot(x,y_batch)\n",
    "plt.show()"
   ]
  },
  {
   "cell_type": "markdown",
   "metadata": {},
   "source": [
    "### A solution to linear regression\n",
    "\n",
    "To help you start this assignment, your instructor wrote two Python notebooks that solve this exercise on linear regression. You can find them here: https://github.com/pnugues/ilppp/tree/master/programs/ch04/python\n",
    "The first notebook, `gradient_descent.ipynb`, only uses Python and vector operations such as the dot product that are in the `vector.py` file.\n",
    "The second notebook, `gradient_descent_numpy.ipynb`, uses Numpy. It is more compact, but you need to know a bit of numpy.\n",
    "\n",
    "To run these programs, download them on your computer as well as the other program in the import list: vector.py\n",
    "\n",
    "The programs are also available as Python programs from\n",
    "https://github.com/pnugues/ilppp/tree/master/programs/ch04/python"
   ]
  },
  {
   "cell_type": "markdown",
   "metadata": {},
   "source": [
    "## Classification\n",
    "You will use the same data set as for linear regression, but this time to classify a chapter as French or English. Given a pair of numbers corresponding the letter count and count of _A_, you will predict the language:\n",
    "1. $\\mathbf{x} = (35680, 2217)$ $\\to$ $y$ = English\n",
    "2. $\\mathbf{x} = (37497, 2641)$ $\\to$ $y$ = French"
   ]
  },
  {
   "cell_type": "markdown",
   "metadata": {},
   "source": [
    "### The dataset\n",
    "You will use the arrays below:\n",
    "1. `X` contains the counts of letters and of _A_ s as well as a column of ones for the intercept;\n",
    "2. `y` contains the classes, where 0 is for English and 1 for French."
   ]
  },
  {
   "cell_type": "code",
   "execution_count": 9,
   "metadata": {},
   "outputs": [],
   "source": [
    "X = [[1.0, 35680.0, 2217.0],\n",
    "     [1.0, 42514.0, 2761.0],\n",
    "     [1.0, 15162.0, 990.0],\n",
    "     [1.0, 35298.0, 2274.0],\n",
    "     [1.0, 29800.0, 1865.0],\n",
    "     [1.0, 40255.0, 2606.0],\n",
    "     [1.0, 74532.0, 4805.0],\n",
    "     [1.0, 37464.0, 2396.0],\n",
    "     [1.0, 31030.0, 1993.0],\n",
    "     [1.0, 24843.0, 1627.0],\n",
    "     [1.0, 36172.0, 2375.0],\n",
    "     [1.0, 39552.0, 2560.0],\n",
    "     [1.0, 72545.0, 4597.0],\n",
    "     [1.0, 75352.0, 4871.0],\n",
    "     [1.0, 18031.0, 1119.0],\n",
    "     [1.0, 36961.0, 2503.0],\n",
    "     [1.0, 43621.0, 2992.0],\n",
    "     [1.0, 15694.0, 1042.0],\n",
    "     [1.0, 36231.0, 2487.0],\n",
    "     [1.0, 29945.0, 2014.0],\n",
    "     [1.0, 40588.0, 2805.0],\n",
    "     [1.0, 75255.0, 5062.0],\n",
    "     [1.0, 37709.0, 2643.0],\n",
    "     [1.0, 30899.0, 2126.0],\n",
    "     [1.0, 25486.0, 1784.0],\n",
    "     [1.0, 37497.0, 2641.0],\n",
    "     [1.0, 40398.0, 2766.0],\n",
    "     [1.0, 74105.0, 5047.0],\n",
    "     [1.0, 76725.0, 5312.0],\n",
    "     [1.0, 18317.0, 1215.0]]\n",
    "y = [0.0, 0.0, 0.0, 0.0, 0.0, 0.0, 0.0, 0.0, 0.0, 0.0, 0.0, 0.0, 0.0, 0.0, 0.0,\n",
    "     1.0, 1.0, 1.0, 1.0, 1.0, 1.0, 1.0, 1.0, 1.0, 1.0, 1.0, 1.0, 1.0, 1.0, 1.0]"
   ]
  },
  {
   "cell_type": "markdown",
   "metadata": {},
   "source": [
    "We visualize it"
   ]
  },
  {
   "cell_type": "code",
   "execution_count": 10,
   "metadata": {},
   "outputs": [],
   "source": [
    "x_fr = [x[1] for i, x in enumerate(X) if y[i] == 1]\n",
    "y_fr = [x[2] for i, x in enumerate(X) if y[i] == 1]\n",
    "x_en = [x[1] for i, x in enumerate(X) if y[i] == 0]\n",
    "y_en = [x[2] for i, x in enumerate(X) if y[i] == 0]"
   ]
  },
  {
   "cell_type": "code",
   "execution_count": 11,
   "metadata": {},
   "outputs": [
    {
     "data": {
      "text/plain": [
       "<matplotlib.collections.PathCollection at 0x1340be39c08>"
      ]
     },
     "execution_count": 11,
     "metadata": {},
     "output_type": "execute_result"
    },
    {
     "data": {
      "image/png": "[encoded data removed]",
      "text/plain": [
       "<Figure size 432x288 with 1 Axes>"
      ]
     },
     "metadata": {
      "needs_background": "light"
     },
     "output_type": "display_data"
    }
   ],
   "source": [
    "plt.scatter(x_fr, y_fr, color='red')\n",
    "plt.scatter(x_en, y_en, color='blue')"
   ]
  },
  {
   "cell_type": "markdown",
   "metadata": {},
   "source": [
    "### Normalize the dataset"
   ]
  },
  {
   "cell_type": "markdown",
   "metadata": {},
   "source": [
    "Gradient descent algorithms can be very sensitive to the range. Therefore, we normalize the dataset."
   ]
  },
  {
   "cell_type": "code",
   "execution_count": 12,
   "metadata": {},
   "outputs": [],
   "source": [
    "def normalize(observations):\n",
    "    maxima = [max([obs[i] for obs in observations]) for i in range(len(observations[0]))]\n",
    "    return ([[obs[i] / maxima[i]\n",
    "              for i in range(len(observations[0]))] for obs in observations],\n",
    "            maxima)"
   ]
  },
  {
   "cell_type": "code",
   "execution_count": 13,
   "metadata": {},
   "outputs": [
    {
     "data": {
      "text/plain": [
       "[[1.0, 0.4650374714890844, 0.4173569277108434],\n",
       " [1.0, 0.5541088302378625, 0.5197665662650602],\n",
       " [1.0, 0.19761485826001954, 0.18637048192771086],\n",
       " [1.0, 0.460058651026393, 0.42808734939759036],\n",
       " [1.0, 0.3884001303356142, 0.3510918674698795],\n",
       " [1.0, 0.5246660149885957, 0.49058734939759036],\n",
       " [1.0, 0.9714173998044966, 0.9045557228915663],\n",
       " [1.0, 0.4882893450635386, 0.4510542168674699],\n",
       " [1.0, 0.4044314108830238, 0.37518825301204817],\n",
       " [1.0, 0.32379276637341153, 0.30628765060240964],\n",
       " [1.0, 0.47144998370804825, 0.4471009036144578],\n",
       " [1.0, 0.5155034213098729, 0.4819277108433735],\n",
       " [1.0, 0.9455197132616487, 0.8653990963855421],\n",
       " [1.0, 0.9821049201694363, 0.916980421686747],\n",
       " [1.0, 0.2350081459758879, 0.21065512048192772],\n",
       " [1.0, 0.48173346366894754, 0.4711972891566265],\n",
       " [1.0, 0.5685369827305311, 0.5632530120481928],\n",
       " [1.0, 0.2045487129358097, 0.19615963855421686],\n",
       " [1.0, 0.47221896383186707, 0.46818524096385544],\n",
       " [1.0, 0.39028999674160963, 0.37914156626506024],\n",
       " [1.0, 0.5290061909416748, 0.5280496987951807],\n",
       " [1.0, 0.9808406647116324, 0.9529367469879518],\n",
       " [1.0, 0.49148256761159986, 0.4975527108433735],\n",
       " [1.0, 0.40272401433691757, 0.4002259036144578],\n",
       " [1.0, 0.3321733463668948, 0.3358433734939759],\n",
       " [1.0, 0.4887194525904203, 0.4971762048192771],\n",
       " [1.0, 0.5265298142717497, 0.5207078313253012],\n",
       " [1.0, 0.9658520690778756, 0.9501129518072289],\n",
       " [1.0, 1.0, 1.0],\n",
       " [1.0, 0.23873574454219615, 0.22872740963855423]]"
      ]
     },
     "execution_count": 13,
     "metadata": {},
     "output_type": "execute_result"
    }
   ],
   "source": [
    "X_norm, maxima = normalize(X)\n",
    "X_norm"
   ]
  },
  {
   "cell_type": "markdown",
   "metadata": {},
   "source": [
    "## The Perceptron\n",
    "\n",
    "1. Write the perceptron program as explained in pages 723--725 in Russell-Norvig and in the slides and run it on your data set. As suggested program structure, use two functions: \n",
    " * `fit(X, y)` that will return `w` (the model). You can choose a stochastic or batch variant;\n",
    " * `predict(X, w)` that will return `y_hat`. You can encapsulate these functions in a class and, of course, add more parameters.\n",
    "2. As a stop criterion, you will use the number of misclassified examples.\n",
    "3. You will report the parameters you have used and the weight vector\n",
    "\n",
    "You can use numpy or not. The next cells are just suggested steps. You can implement it your way."
   ]
  },
  {
   "cell_type": "markdown",
   "metadata": {},
   "source": [
    "### The `predict(X, w)` function\n",
    "Write a `predict(X, w)` function that given a matrix of observations $\\mathbf{X}$ and a weight vector $\\mathbf{w}$ will return a $\\mathbf{\\hat{y}}$ vector classes (0 or 1)"
   ]
  },
  {
   "cell_type": "code",
   "execution_count": 14,
   "metadata": {},
   "outputs": [],
   "source": [
    "# Write your code here\n",
    "def predict(X, w):\n",
    "    vect = np.dot(X,w)\n",
    "    y = np.where(vect>=0.5, 1, 0)\n",
    "    return y"
   ]
  },
  {
   "cell_type": "markdown",
   "metadata": {},
   "source": [
    "### The `fit(X, y)` function"
   ]
  },
  {
   "cell_type": "markdown",
   "metadata": {},
   "source": [
    "Write a `fit(X, y)` function that given a matrix of observations $\\mathbf{X}$ and a vector of responses $\\mathbf{y}$ will return a weight $\\mathbf{w}$ vector. You may use the other arguments of the function, notably the number of misclassified examples to define the stop condition."
   ]
  },
  {
   "cell_type": "code",
   "execution_count": 15,
   "metadata": {},
   "outputs": [
    {
     "name": "stdout",
     "output_type": "stream",
     "text": [
      "[[ 1  1  5  1]\n",
      " [ 1  3 -6  1]]\n",
      "[ 2  0 -1  1]\n"
     ]
    },
    {
     "data": {
      "text/plain": [
       "array([0, 1])"
      ]
     },
     "execution_count": 15,
     "metadata": {},
     "output_type": "execute_result"
    }
   ],
   "source": [
    "a = np.array([[1, 1, 5, 1],[1,3,-6,1]])\n",
    "print(a)\n",
    "b = np.array([2, 0, -1, 1])\n",
    "print(b)\n",
    "np.count_nonzero(a-b)\n",
    "predict(a,b)"
   ]
  },
  {
   "cell_type": "code",
   "execution_count": 92,
   "metadata": {},
   "outputs": [
    {
     "name": "stdout",
     "output_type": "stream",
     "text": [
      "[-1.8823944  -2.0738754  -1.38398534 -1.888146   -1.739492   -2.01525336\n",
      " -2.87597312 -1.93934356 -1.77961966 -1.63008042 -1.91855089 -1.99743113\n",
      " -2.81091881 -2.89908534 -1.44566327 -0.95293075 -1.13178999 -0.40070835\n",
      " -0.9404042  -0.76943156 -1.05705589 -1.93377741 -0.98903528 -0.80294992\n",
      " -0.66801672 -0.98589566 -1.04723765 -1.91596502 -2.         -0.46746315]\n",
      "[[1.0000e+00 1.0000e+00 1.0000e+00 1.0000e+00 1.0000e+00 1.0000e+00\n",
      "  1.0000e+00 1.0000e+00 1.0000e+00 1.0000e+00 1.0000e+00 1.0000e+00\n",
      "  1.0000e+00 1.0000e+00 1.0000e+00 1.0000e+00 1.0000e+00 1.0000e+00\n",
      "  1.0000e+00 1.0000e+00 1.0000e+00 1.0000e+00 1.0000e+00 1.0000e+00\n",
      "  1.0000e+00 1.0000e+00 1.0000e+00 1.0000e+00 1.0000e+00 1.0000e+00]\n",
      " [3.5680e+04 4.2514e+04 1.5162e+04 3.5298e+04 2.9800e+04 4.0255e+04\n",
      "  7.4532e+04 3.7464e+04 3.1030e+04 2.4843e+04 3.6172e+04 3.9552e+04\n",
      "  7.2545e+04 7.5352e+04 1.8031e+04 3.6961e+04 4.3621e+04 1.5694e+04\n",
      "  3.6231e+04 2.9945e+04 4.0588e+04 7.5255e+04 3.7709e+04 3.0899e+04\n",
      "  2.5486e+04 3.7497e+04 4.0398e+04 7.4105e+04 7.6725e+04 1.8317e+04]\n",
      " [2.2170e+03 2.7610e+03 9.9000e+02 2.2740e+03 1.8650e+03 2.6060e+03\n",
      "  4.8050e+03 2.3960e+03 1.9930e+03 1.6270e+03 2.3750e+03 2.5600e+03\n",
      "  4.5970e+03 4.8710e+03 1.1190e+03 2.5030e+03 2.9920e+03 1.0420e+03\n",
      "  2.4870e+03 2.0140e+03 2.8050e+03 5.0620e+03 2.6430e+03 2.1260e+03\n",
      "  1.7840e+03 2.6410e+03 2.7660e+03 5.0470e+03 5.3120e+03 1.2150e+03]]\n",
      "[ 2.43035970e-06 -8.60860347e+01  6.19091257e+00]\n"
     ]
    }
   ],
   "source": [
    "print(y-np.dot(X_norm,[1,1,1]))\n",
    "print(np.transpose(X))\n",
    "print(0.01*np.dot(np.transpose(X),y-np.dot(X_norm,[ 0.4443207,-1.92662872,2.11826403])))"
   ]
  },
  {
   "cell_type": "code",
   "execution_count": 29,
   "metadata": {},
   "outputs": [],
   "source": [
    "# Write your code here\n",
    "\n",
    "def fit_batch(X, y, alpha, w=[1,1,1], epochs=100000, max_misclassified=0, verbose=True):\n",
    "        \n",
    "    epoch_nr = 1\n",
    "    misclassified = 10\n",
    "    while epoch_nr<epochs and misclassified>max_misclassified:\n",
    "        \n",
    "        y_hat = predict(X,w)\n",
    "        w += alpha * np.dot(np.transpose(X),(y-y_hat))\n",
    "        predicted = predict(X,w)\n",
    "        misclassified = np.count_nonzero(y-predicted)\n",
    "        epoch_nr += 1\n",
    "    if verbose:\n",
    "        if epoch_nr == epochs:\n",
    "            print('Run out of epochs...\\nThe number of misclassified is ', misclassified)\n",
    "        else:\n",
    "            print('The loss is now below the tolerance\\nEpoch: ', epoch_nr)\n",
    "    return w, epoch_nr\n"
   ]
  },
  {
   "cell_type": "markdown",
   "metadata": {},
   "source": [
    "### Fitting the dataset"
   ]
  },
  {
   "cell_type": "code",
   "execution_count": 30,
   "metadata": {},
   "outputs": [
    {
     "name": "stdout",
     "output_type": "stream",
     "text": [
      "The loss is now below the tolerance\n",
      "Epoch:  3583\n"
     ]
    },
    {
     "data": {
      "text/plain": [
       "(array([   0.        , -388.43438254,  409.81400602]), 3583)"
      ]
     },
     "execution_count": 30,
     "metadata": {},
     "output_type": "execute_result"
    }
   ],
   "source": [
    "w = fit_batch(X_norm, y, 1)\n",
    "w"
   ]
  },
  {
   "cell_type": "code",
   "execution_count": 18,
   "metadata": {},
   "outputs": [
    {
     "name": "stdout",
     "output_type": "stream",
     "text": [
      "Restored weights [0.0, -26.892974128720265, 409.8140060241005]\n",
      "Weights with y set to 1 [0.0, -0.06562238901893151, 1.0]\n"
     ]
    }
   ],
   "source": [
    "w = [w[i] * maxima[-1] / maxima[i] for i in range(len(w))]\n",
    "print(\"Restored weights\", w)\n",
    "w = [w[j] / w[-1] for j in range(len(w))]\n",
    "print(\"Weights with y set to 1\", w)"
   ]
  },
  {
   "cell_type": "code",
   "execution_count": 11,
   "metadata": {},
   "outputs": [
    {
     "name": "stdout",
     "output_type": "stream",
     "text": [
      "Restored weights [0.0, -0.2634800809151015, 3.982868975903616]\n",
      "Weights with y set to 1 [0.0, -0.06615333883920303, 1.0]\n"
     ]
    }
   ],
   "source": [
    "w = [w[i] * maxima[-1] / maxima[i] for i in range(len(w))]\n",
    "print(\"Restored weights\", w)\n",
    "w = [w[j] / w[-1] for j in range(len(w))]\n",
    "print(\"Weights with y set to 1\", w)"
   ]
  },
  {
   "cell_type": "markdown",
   "metadata": {},
   "source": [
    "### Visualizing the results"
   ]
  },
  {
   "cell_type": "code",
   "execution_count": 19,
   "metadata": {},
   "outputs": [
    {
     "data": {
      "text/plain": [
       "[<matplotlib.lines.Line2D at 0x1340beb2e88>]"
      ]
     },
     "execution_count": 19,
     "metadata": {},
     "output_type": "execute_result"
    },
    {
     "data": {
      "image/png": "[encoded data removed]",
      "text/plain": [
       "<Figure size 432x288 with 1 Axes>"
      ]
     },
     "metadata": {
      "needs_background": "light"
     },
     "output_type": "display_data"
    }
   ],
   "source": [
    "plt.scatter(x_fr, y_fr, color='red')\n",
    "plt.scatter(x_en, y_en, color='blue')\n",
    "plt.plot([min(x_fr + x_en), max(x_fr + x_en)],\n",
    "             [-w[1] * min(x_fr + x_en) - w[0], -w[1] * max(x_fr + x_en) - w[0]])"
   ]
  },
  {
   "cell_type": "code",
   "execution_count": 20,
   "metadata": {},
   "outputs": [
    {
     "data": {
      "text/plain": [
       "[<matplotlib.lines.Line2D at 0x1340becff88>]"
      ]
     },
     "execution_count": 20,
     "metadata": {},
     "output_type": "execute_result"
    },
    {
     "data": {
      "image/png": "[encoded data removed]",
      "text/plain": [
       "<Figure size 432x288 with 1 Axes>"
      ]
     },
     "metadata": {
      "needs_background": "light"
     },
     "output_type": "display_data"
    }
   ],
   "source": [
    "plt.scatter(x_fr, y_fr, color='red')\n",
    "plt.scatter(x_en, y_en, color='blue')\n",
    "plt.plot([min(x_fr + x_en), max(x_fr + x_en)],\n",
    "             [-w[1] * min(x_fr + x_en) - w[0], -w[1] * max(x_fr + x_en) - w[0]])"
   ]
  },
  {
   "cell_type": "markdown",
   "metadata": {},
   "source": [
    "### Evaluation\n",
    "Evaluate your perceptron using the leave-one-out cross validation method. You will have to train and run 30 models. In each train/run session, you will train on 29 samples and evaluate on the remaining sample. You have then either a correct or a wrong classification. You will sum these classifications, i.e. the number of correct classifications, to get your final evaluation, for instance 29/30."
   ]
  },
  {
   "cell_type": "code",
   "execution_count": 31,
   "metadata": {},
   "outputs": [],
   "source": [
    "# Write your code here\n",
    "from sklearn.model_selection import LeaveOneOut\n",
    "\n",
    "def leave_one_out_cross_val(X, y, fitting_function):\n",
    "    loo = LeaveOneOut()\n",
    "    correct_pred = 0\n",
    "    i = 0\n",
    "    \n",
    "    for train_index, test_index in loo.split(X):\n",
    "        i += 1\n",
    "        X_train = [X[j] for j in train_index]\n",
    "        y_train = [y[j] for j in train_index]\n",
    "        \n",
    "        w, epochs = fitting_function(X_train, y_train, 1, verbose=False)\n",
    "        \n",
    "        y_pred = predict(X[test_index[0]],w)\n",
    "        \n",
    "        if y[test_index[0]]-y_pred == 0:\n",
    "            correct_pred += 1\n",
    "            corr_string = 'Correct. '\n",
    "        else:\n",
    "            corr_string = 'Wrong. '\n",
    "        print('Fold', i, 'on', len(X), ': epochs:', epochs, ', weights:', w, ':', corr_string )\n",
    "    return correct_pred/len(X)"
   ]
  },
  {
   "cell_type": "code",
   "execution_count": 32,
   "metadata": {},
   "outputs": [
    {
     "name": "stdout",
     "output_type": "stream",
     "text": [
      "Fold 1 on 30 : epochs: 3791 , weights: [   0.         -387.92175953  409.33226657] : Correct. \n",
      "Fold 2 on 30 : epochs: 3295 , weights: [   0.         -354.80933203  372.78350904] : Correct. \n",
      "Fold 3 on 30 : epochs: 427 , weights: [  1.         -50.70435973  51.95896084] : Wrong. \n",
      "Fold 4 on 30 : epochs: 3334 , weights: [   1.         -358.19508635  375.60410392] : Correct. \n",
      "Fold 5 on 30 : epochs: 3791 , weights: [   0.         -388.88140762  408.47307982] : Correct. \n",
      "Fold 6 on 30 : epochs: 3320 , weights: [   1.         -357.02250896  374.53012048] : Correct. \n",
      "Fold 7 on 30 : epochs: 3836 , weights: [   1.         -365.86253503  383.19973645] : Correct. \n",
      "Fold 8 on 30 : epochs: 3339 , weights: [   0.         -355.01790811  374.15436747] : Correct. \n",
      "Fold 9 on 30 : epochs: 3314 , weights: [   0.         -357.18605409  375.48418675] : Correct. \n",
      "Fold 10 on 30 : epochs: 3323 , weights: [   1.         -363.18760508  380.99190512] : Correct. \n",
      "Fold 11 on 30 : epochs: 3311 , weights: [   1.         -358.85702183  373.95425452] : Correct. \n",
      "Fold 12 on 30 : epochs: 3321 , weights: [   0.         -357.32796351  375.38158886] : Correct. \n",
      "Fold 13 on 30 : epochs: 4091 , weights: [   0.         -388.41425872  409.78539157] : Correct. \n",
      "Fold 14 on 30 : epochs: 3746 , weights: [   0.         -360.53536657  379.71253765] : Correct. \n",
      "Fold 15 on 30 : epochs: 3268 , weights: [   1.         -353.83137178  367.19277108] : Correct. \n",
      "Fold 16 on 30 : epochs: 3350 , weights: [   0.         -361.30948192  380.1346009 ] : Correct. \n",
      "Fold 17 on 30 : epochs: 3362 , weights: [   0.         -360.53421962  379.08546687] : Correct. \n",
      "Fold 18 on 30 : epochs: 3576 , weights: [   0.         -368.60258065  389.40813253] : Correct. \n",
      "Fold 19 on 30 : epochs: 3398 , weights: [   0.         -361.02939068  379.72816265] : Correct. \n",
      "Fold 20 on 30 : epochs: 3439 , weights: [   0.         -365.52430108  385.21423193] : Correct. \n",
      "Fold 21 on 30 : epochs: 3465 , weights: [   1.         -365.26776149  382.59318524] : Correct. \n",
      "Fold 22 on 30 : epochs: 3343 , weights: [   1.         -361.21556207  375.92620482] : Correct. \n",
      "Fold 23 on 30 : epochs: 3816 , weights: [   0.         -388.5999609   410.02146084] : Correct. \n",
      "Fold 24 on 30 : epochs: 3473 , weights: [   0.         -363.5865233   383.02729669] : Correct. \n",
      "Fold 25 on 30 : epochs: 3496 , weights: [   0.         -359.2001564   378.93128765] : Correct. \n",
      "Fold 26 on 30 : epochs: 3800 , weights: [   0.         -388.31981753  409.76618976] : Correct. \n",
      "Fold 27 on 30 : epochs: 3354 , weights: [   0.         -359.67290974  378.32341867] : Correct. \n",
      "Fold 28 on 30 : epochs: 3449 , weights: [   1.         -361.13197784  376.73192771] : Correct. \n",
      "Fold 29 on 30 : epochs: 3855 , weights: [   0.         -389.00491365  410.47100904] : Correct. \n",
      "Fold 30 on 30 : epochs: 3571 , weights: [   0.         -368.93892473  389.90003765] : Correct. \n",
      "Cross-validation accuracy (stochastic): 0.9666666666666667\n"
     ]
    }
   ],
   "source": [
    "stoch_accuracy = leave_one_out_cross_val(X_norm, y, fit_batch)\n",
    "print('Cross-validation accuracy (stochastic):', stoch_accuracy)"
   ]
  },
  {
   "cell_type": "code",
   "execution_count": 14,
   "metadata": {},
   "outputs": [
    {
     "name": "stdout",
     "output_type": "stream",
     "text": [
      "Fold 1 on 30: epochs: 36, weights: [0.0, -4.12234604105572, 4.318524096385538]: Correct.\n",
      "Fold 2 on 30: epochs: 43, weights: [0.0, -4.842932551319658, 5.063629518072292]: Correct.\n",
      "Fold 3 on 30: epochs: 22, weights: [0.0, -2.5328510915607714, 2.655308734939758]: Correct.\n",
      "Fold 4 on 30: epochs: 59, weights: [0.0, -6.80922776148585, 7.144766566265064]: Correct.\n",
      "Fold 5 on 30: epochs: 28, weights: [0.0, -3.209866405995442, 3.355421686746989]: Correct.\n",
      "Fold 6 on 30: epochs: 13, weights: [0.0, -1.5442293906810054, 1.6270707831325293]: Correct.\n",
      "Fold 7 on 30: epochs: 48, weights: [0.0, -5.33588791137179, 5.6170933734939785]: Correct.\n",
      "Fold 8 on 30: epochs: 35, weights: [0.0, -4.096839361355491, 4.306852409638546]: Correct.\n",
      "Fold 9 on 30: epochs: 14, weights: [0.0, -1.6830498533724358, 1.7616716867469877]: Correct.\n",
      "Fold 10 on 30: epochs: 50, weights: [0.0, -5.937725643532106, 6.2251506024096335]: Correct.\n",
      "Fold 11 on 30: epochs: 27, weights: [0.0, -3.1820527859237533, 3.3589984939759003]: Wrong.\n",
      "Fold 12 on 30: epochs: 24, weights: [0.0, -2.8009384164222872, 2.931287650602408]: Correct.\n",
      "Fold 13 on 30: epochs: 35, weights: [0.0, -3.853216031280549, 4.0489457831325275]: Correct.\n",
      "Fold 14 on 30: epochs: 95, weights: [0.0, -10.325395894428157, 10.811558734939785]: Correct.\n",
      "Fold 15 on 30: epochs: 35, weights: [0.0, -4.089879439556862, 4.269766566265058]: Correct.\n",
      "Fold 16 on 30: epochs: 17, weights: [0.0, -2.0341609644835468, 2.1255647590361435]: Correct.\n",
      "Fold 17 on 30: epochs: 14, weights: [0.0, -1.7660345389377667, 1.8597515060240952]: Correct.\n",
      "Fold 18 on 30: epochs: 63, weights: [0.0, -7.230759204952776, 7.560240963855414]: Correct.\n",
      "Fold 19 on 30: epochs: 17, weights: [0.0, -1.9196611274030642, 2.022402108433734]: Correct.\n",
      "Fold 20 on 30: epochs: 42, weights: [0.0, -5.032779406972958, 5.27767319277108]: Correct.\n",
      "Fold 21 on 30: epochs: 34, weights: [0.0, -3.764275008145973, 3.936182228915663]: Correct.\n",
      "Fold 22 on 30: epochs: 7, weights: [0.0, -0.7901466275659828, 0.8262424698795182]: Correct.\n",
      "Fold 23 on 30: epochs: 13, weights: [0.0, -1.4354773541870331, 1.4994352409638543]: Correct.\n",
      "Fold 24 on 30: epochs: 37, weights: [0.0, -4.281485826001959, 4.494164156626506]: Correct.\n",
      "Fold 25 on 30: epochs: 53, weights: [0.0, -6.089423264907147, 6.372740963855426]: Correct.\n",
      "Fold 26 on 30: epochs: 18, weights: [0.0, -1.9904203323558176, 2.092808734939759]: Correct.\n",
      "Fold 27 on 30: epochs: 25, weights: [0.0, -2.7555946562398184, 2.8821536144578324]: Correct.\n",
      "Fold 28 on 30: epochs: 28, weights: [0.0, -2.9412316715542537, 3.091114457831324]: Correct.\n",
      "Fold 29 on 30: epochs: 13, weights: [0.0, -1.2756858911697635, 1.3354668674698802]: Correct.\n",
      "Fold 30 on 30: epochs: 61, weights: [0.0, -6.950133594004575, 7.306287650602412]: Correct.\n",
      "Cross-validation accuracy (stochastic): 0.9666666666666667\n"
     ]
    }
   ],
   "source": [
    "stoch_accuracy = leave_one_out_cross_val(X_norm, y, fit_stoch)\n",
    "print('Cross-validation accuracy (stochastic):', stoch_accuracy)"
   ]
  },
  {
   "cell_type": "markdown",
   "metadata": {},
   "source": [
    "## Logistic Regression\n",
    "From your perceptron program, implement logistic regression. You can either follow the description from the textbook, S. Russell and R. Norvig, _Artificial Intelligence_, 2010, pages 725--727, or the slides. You can either implement the stochastic or the batch version of the algorithm, or both versions. As stop criterion, you will use either the norm of the gradient or the norm of the difference between two consecutive weight vectors. You will also set a maximal number of epochs. Run the resulting program on your data set."
   ]
  },
  {
   "cell_type": "markdown",
   "metadata": {},
   "source": [
    "Write the logistic function, where the $x$ input is a real number."
   ]
  },
  {
   "cell_type": "code",
   "execution_count": 28,
   "metadata": {},
   "outputs": [],
   "source": [
    "# Write your code here\n",
    "import math\n",
    "def logistic(x):\n",
    "    return 1 / (1+np.exp(-x))"
   ]
  },
  {
   "cell_type": "markdown",
   "metadata": {},
   "source": [
    "### The `predict(X, w)` function"
   ]
  },
  {
   "cell_type": "markdown",
   "metadata": {},
   "source": [
    "Write a `predict_proba()` function that given a matrix of observations $\\mathbf{X}$ and a weight vector $\\mathbf{w}$ will return a vector of probabilities to belong to class 1: The vector will consist of $P(1|\\mathbf{x}_i)$ for all the $i$ rows of $\\mathbf{X}$."
   ]
  },
  {
   "cell_type": "code",
   "execution_count": 29,
   "metadata": {},
   "outputs": [],
   "source": [
    "# Write your code here\n",
    "def predict_proba(X, w):\n",
    "    if isinstance(X,list):\n",
    "        return logistic(np.dot(X,w))\n",
    "    else:\n",
    "        return [logistic(x) for x in np.dot(X,w)]"
   ]
  },
  {
   "cell_type": "markdown",
   "metadata": {},
   "source": [
    "Write a `predict(X, w)` function that given a matrix of observations $\\mathbf{X}$ and a weight vector $\\mathbf{w}$ will return the class. You will use `predict_proba()` and set the threshold to belong to class 1 to 0.5."
   ]
  },
  {
   "cell_type": "code",
   "execution_count": 30,
   "metadata": {},
   "outputs": [],
   "source": [
    "# Write your code here\n",
    "def predict(X, w):\n",
    "    return np.where(predict_proba(X,w)>=0.5, 1, 0)"
   ]
  },
  {
   "cell_type": "markdown",
   "metadata": {},
   "source": [
    "### The `fit(X, y)` function"
   ]
  },
  {
   "cell_type": "markdown",
   "metadata": {},
   "source": [
    "You will now write the `fit(X, y)` function as with the perceptron. You may call it `fit_stoch(X, y)` or `fit_batch(X, y)`. Use the parameters given in the cell below."
   ]
  },
  {
   "cell_type": "code",
   "execution_count": 31,
   "metadata": {},
   "outputs": [],
   "source": [
    "# Write your code here\n",
    "import random\n",
    "def fit_stoch(X, y, alpha=100, epochs=10000, epsilon=1.0e-4, verbose=False):\n",
    "    \n",
    "    w = [1,1,1]\n",
    "    epoch_nr = 1\n",
    "    norm_grad = 1\n",
    "    while norm_grad > epsilon and epoch_nr < epochs:\n",
    "        for j in range(len(X)):\n",
    "           # w += alpha * X[i] * (y[i]-logistic(np.dot(X[i],w)))\n",
    "           # w += alpha * [X[i,j] for j in range(len(w))]*(y[i]-logistic(np.dot(w,X[i])))\n",
    "            \n",
    "            w += alpha * np.array([x_i * (y[j]-logistic(np.dot(X[j],w))) for x_i in X[j]])\n",
    "        \n",
    "        grad = [0,0,0]\n",
    "        for i in range(len(w)):\n",
    "            for k, row in enumerate(X):\n",
    "                grad[i] += row[i]*(y[k]-logistic(np.dot(row,w)))\n",
    "                \n",
    "        norm_grad = np.linalg.norm(grad)\n",
    "        epoch_nr += 1\n",
    "        if verbose and (epoch_nr % 200 == 0):\n",
    "            print('Epoch:', epoch_nr, 'Gradient:', norm_grad, ', Likelihood:', w)\n",
    "    if verbose:\n",
    "        print('Epoch:', epoch_nr, ', weights:', w, ', Likelihood:')\n",
    "    return w"
   ]
  },
  {
   "cell_type": "code",
   "execution_count": 32,
   "metadata": {},
   "outputs": [
    {
     "name": "stdout",
     "output_type": "stream",
     "text": [
      "Epoch: 200 Gradient: 18.490582652111698 , Likelihood: [  38.06232946 -323.43144266  480.85316136]\n",
      "Epoch: 400 Gradient: 18.490582652111698 , Likelihood: [  11.53635972 -689.77609893  925.44670663]\n",
      "Epoch: 600 Gradient: 18.490582652013835 , Likelihood: [   -9.87368035 -1071.75143019  1351.91528851]\n",
      "Epoch: 800 Gradient: 18.490582652111698 , Likelihood: [   40.54764191 -1497.63479044  1740.90570521]\n",
      "Epoch: 1000 Gradient: 18.490582652111698 , Likelihood: [   22.04048239 -1859.14465528  2146.59106197]\n",
      "Epoch: 1200 Gradient: 14.293834332127869 , Likelihood: [  -38.58797729 -2232.17325959  2556.24501738]\n",
      "Epoch: 1400 Gradient: 18.490582610200676 , Likelihood: [    8.64695662 -2549.55350242  2883.87204148]\n",
      "Epoch: 1600 Gradient: 18.38476593145854 , Likelihood: [   86.54374993 -2977.05136469  3155.6974409 ]\n",
      "Epoch: 1800 Gradient: 12.640951539499513 , Likelihood: [  140.74226923 -3360.52345547  3339.46182214]\n",
      "Epoch: 2000 Gradient: 15.768344355352658 , Likelihood: [   98.17419687 -3494.22556021  3649.08709932]\n",
      "Epoch: 2200 Gradient: 12.643975885271216 , Likelihood: [  123.4831868  -3749.04919149  3828.39516103]\n",
      "Epoch: 2400 Gradient: 7.38885216496717 , Likelihood: [   86.10836492 -3959.8750495   4055.71664289]\n",
      "Epoch: 2600 Gradient: 0.0042676580211030955 , Likelihood: [   15.58170226 -4018.74546108  4151.55784688]\n",
      "Epoch: 2800 Gradient: 0.002643419754497223 , Likelihood: [   13.55500434 -4014.27872984  4156.23778684]\n",
      "Epoch: 3000 Gradient: 0.001878160852676201 , Likelihood: [   12.00504444 -4010.80876069  4159.88346163]\n",
      "Epoch: 3200 Gradient: 0.0014379417539577364 , Likelihood: [   10.73498583 -4007.94164628  4162.90459015]\n",
      "Epoch: 3400 Gradient: 0.0011566326800450711 , Likelihood: [    9.65479104 -4005.49025868  4165.49574334]\n",
      "Epoch: 3600 Gradient: 0.0009647830998589399 , Likelihood: [    8.71433905 -4003.34856127  4167.76724907]\n",
      "Epoch: 3800 Gradient: 0.0008282659350970921 , Likelihood: [    7.88273896 -4001.45070026  4169.78778196]\n",
      "Epoch: 4000 Gradient: 0.000728498573182891 , Likelihood: [    7.13991858 -3999.75393689  4171.60214827]\n",
      "Epoch: 4200 Gradient: 0.0006546478374787886 , Likelihood: [    6.47267736 -3998.23054018  4173.23976175]\n",
      "Epoch: 4400 Gradient: 0.0006001090257513001 , Likelihood: [    5.87269089 -3996.86367556  4174.71897469]\n",
      "Epoch: 4600 Gradient: 0.0005607231772910256 , Likelihood: [    5.33543604 -3995.64515947  4176.04946297]\n",
      "Epoch: 4800 Gradient: 0.0005337428127415827 , Likelihood: [    4.85945447 -3994.57378271  4177.23397344]\n",
      "Epoch: 5000 Gradient: 0.0005171140847446177 , Likelihood: [    4.44548323 -3993.65309441  4178.27051851]\n",
      "Epoch: 5200 Gradient: 0.0005089223230277553 , Likelihood: [ 4.09507955e+00 -3.99288782e+03  4.17915581e+03]\n",
      "Epoch: 5400 Gradient: 0.0005070548559981493 , Likelihood: [ 3.80872207e+00 -3.99227912e+03  4.17988980e+03]\n",
      "Epoch: 5600 Gradient: 0.0005092194902458486 , Likelihood: [ 3.58399986e+00 -3.99182032e+03  4.18047963e+03]\n",
      "Epoch: 5800 Gradient: 0.0005132919239033935 , Likelihood: [ 3.41486484e+00 -3.99149568e+03  4.18094090e+03]\n",
      "Epoch: 6000 Gradient: 0.0005177019358503202 , Likelihood: [ 3.29240957e+00 -3.99128276e+03  4.18129534e+03]\n",
      "Epoch: 6200 Gradient: 0.0005215712269221105 , Likelihood: [ 3.20661177e+00 -3.99115691e+03  4.18156665e+03]\n",
      "Epoch: 6400 Gradient: 0.0005245833010053229 , Likelihood: [ 3.14802312e+00 -3.99109529e+03  4.18177668e+03]\n",
      "Epoch: 6600 Gradient: 0.0005267515646537543 , Likelihood: [ 3.10876726e+00 -3.99107911e+03  4.18194339e+03]\n",
      "Epoch: 6800 Gradient: 0.0005282263946521186 , Likelihood: [ 3.08281630e+00 -3.99109409e+03  4.18208040e+03]\n",
      "Epoch: 7000 Gradient: 0.0005291830512570399 , Likelihood: [ 3.06581935e+00 -3.99112999e+03  4.18219746e+03]\n",
      "Epoch: 7200 Gradient: 0.0005297735193013546 , Likelihood: [ 3.05475734e+00 -3.99117973e+03  4.18230131e+03]\n",
      "Epoch: 7400 Gradient: 0.0005301139269739684 , Likelihood: [ 3.04758942e+00 -3.99123855e+03  4.18239651e+03]\n",
      "Epoch: 7600 Gradient: 0.0005302872101477399 , Likelihood: [ 3.04295955e+00 -3.99130326e+03  4.18248607e+03]\n",
      "Epoch: 7800 Gradient: 0.000530350313984814 , Likelihood: [ 3.03997674e+00 -3.99137181e+03  4.18257196e+03]\n",
      "Epoch: 8000 Gradient: 0.0005303414138594188 , Likelihood: [ 3.03805978e+00 -3.99144282e+03  4.18265548e+03]\n",
      "Epoch: 8200 Gradient: 0.0005302857244022832 , Likelihood: [ 3.03683133e+00 -3.99151543e+03  4.18273747e+03]\n",
      "Epoch: 8400 Gradient: 0.0005301997446879353 , Likelihood: [ 3.03604713e+00 -3.99158906e+03  4.18281846e+03]\n",
      "Epoch: 8600 Gradient: 0.0005300942070153599 , Likelihood: [ 3.03554936e+00 -3.99166335e+03  4.18289880e+03]\n",
      "Epoch: 8800 Gradient: 0.0005299760663075601 , Likelihood: [ 3.03523618e+00 -3.99173806e+03  4.18297872e+03]\n",
      "Epoch: 9000 Gradient: 0.0005298498188484181 , Likelihood: [ 3.03504195e+00 -3.99181303e+03  4.18305837e+03]\n",
      "Epoch: 9200 Gradient: 0.0005297183670441252 , Likelihood: [ 3.03492434e+00 -3.99188817e+03  4.18313784e+03]\n",
      "Epoch: 9400 Gradient: 0.0005295835826496254 , Likelihood: [ 3.03485609e+00 -3.99196342e+03  4.18321718e+03]\n",
      "Epoch: 9600 Gradient: 0.0005294466720349338 , Likelihood: [ 3.03481963e+00 -3.99203873e+03  4.18329645e+03]\n",
      "Epoch: 9800 Gradient: 0.0005293084124446984 , Likelihood: [ 3.03480364e+00 -3.99211408e+03  4.18337566e+03]\n",
      "Epoch: 10000 Gradient: 0.0005291693045313372 , Likelihood: [ 3.03480085e+00 -3.99218944e+03  4.18345483e+03]\n",
      "Epoch: 10000 , weights: [ 3.03480085e+00 -3.99218944e+03  4.18345483e+03] , Likelihood:\n"
     ]
    },
    {
     "data": {
      "text/plain": [
       "array([ 3.03480085e+00, -3.99218944e+03,  4.18345483e+03])"
      ]
     },
     "execution_count": 32,
     "metadata": {},
     "output_type": "execute_result"
    }
   ],
   "source": [
    "w = fit_stoch(X_norm, y, verbose=True)\n",
    "w"
   ]
  },
  {
   "cell_type": "code",
   "execution_count": 163,
   "metadata": {},
   "outputs": [
    {
     "name": "stdout",
     "output_type": "stream",
     "text": [
      "Epoch: 200 Gradient: 18.490582652111698 , Likelihood: [  38.06232946 -323.43144266  480.85316136]\n",
      "Epoch: 400 Gradient: 18.490582652111698 , Likelihood: [  11.53635972 -689.77609893  925.44670663]\n",
      "Epoch: 600 Gradient: 18.490582652013835 , Likelihood: [   -9.87368035 -1071.75143019  1351.91528851]\n",
      "Epoch: 800 Gradient: 18.490582652111698 , Likelihood: [   40.54764191 -1497.63479044  1740.90570521]\n",
      "Epoch: 1000 Gradient: 18.490582652111698 , Likelihood: [   22.04048239 -1859.14465528  2146.59106197]\n",
      "Epoch: 1200 Gradient: 14.293834332127869 , Likelihood: [  -38.58797729 -2232.17325959  2556.24501738]\n",
      "Epoch: 1400 Gradient: 18.490582610200676 , Likelihood: [    8.64695662 -2549.55350242  2883.87204148]\n",
      "Epoch: 1600 Gradient: 18.38476593145854 , Likelihood: [   86.54374993 -2977.05136469  3155.6974409 ]\n",
      "Epoch: 1800 Gradient: 12.640951539499513 , Likelihood: [  140.74226923 -3360.52345547  3339.46182214]\n",
      "Epoch: 2000 Gradient: 15.768344355352658 , Likelihood: [   98.17419687 -3494.22556021  3649.08709932]\n",
      "Epoch: 2200 Gradient: 12.643975885271216 , Likelihood: [  123.4831868  -3749.04919149  3828.39516103]\n",
      "Epoch: 2400 Gradient: 7.38885216496717 , Likelihood: [   86.10836492 -3959.8750495   4055.71664289]\n",
      "Epoch: 2600 Gradient: 0.0042676580211030955 , Likelihood: [   15.58170226 -4018.74546108  4151.55784688]\n",
      "Epoch: 2800 Gradient: 0.002643419754497223 , Likelihood: [   13.55500434 -4014.27872984  4156.23778684]\n",
      "Epoch: 3000 Gradient: 0.001878160852676201 , Likelihood: [   12.00504444 -4010.80876069  4159.88346163]\n",
      "Epoch: 3200 Gradient: 0.0014379417539577364 , Likelihood: [   10.73498583 -4007.94164628  4162.90459015]\n",
      "Epoch: 3400 Gradient: 0.0011566326800450711 , Likelihood: [    9.65479104 -4005.49025868  4165.49574334]\n",
      "Epoch: 3600 Gradient: 0.0009647830998589399 , Likelihood: [    8.71433905 -4003.34856127  4167.76724907]\n",
      "Epoch: 3800 Gradient: 0.0008282659350970921 , Likelihood: [    7.88273896 -4001.45070026  4169.78778196]\n",
      "Epoch: 4000 Gradient: 0.000728498573182891 , Likelihood: [    7.13991858 -3999.75393689  4171.60214827]\n",
      "Epoch: 4200 Gradient: 0.0006546478374787886 , Likelihood: [    6.47267736 -3998.23054018  4173.23976175]\n",
      "Epoch: 4400 Gradient: 0.0006001090257513001 , Likelihood: [    5.87269089 -3996.86367556  4174.71897469]\n",
      "Epoch: 4600 Gradient: 0.0005607231772910256 , Likelihood: [    5.33543604 -3995.64515947  4176.04946297]\n",
      "Epoch: 4800 Gradient: 0.0005337428127415827 , Likelihood: [    4.85945447 -3994.57378271  4177.23397344]\n",
      "Epoch: 5000 Gradient: 0.0005171140847446177 , Likelihood: [    4.44548323 -3993.65309441  4178.27051851]\n",
      "Epoch: 5200 Gradient: 0.0005089223230277553 , Likelihood: [ 4.09507955e+00 -3.99288782e+03  4.17915581e+03]\n",
      "Epoch: 5400 Gradient: 0.0005070548559981493 , Likelihood: [ 3.80872207e+00 -3.99227912e+03  4.17988980e+03]\n",
      "Epoch: 5600 Gradient: 0.0005092194902458486 , Likelihood: [ 3.58399986e+00 -3.99182032e+03  4.18047963e+03]\n",
      "Epoch: 5800 Gradient: 0.0005132919239033935 , Likelihood: [ 3.41486484e+00 -3.99149568e+03  4.18094090e+03]\n",
      "Epoch: 6000 Gradient: 0.0005177019358503202 , Likelihood: [ 3.29240957e+00 -3.99128276e+03  4.18129534e+03]\n",
      "Epoch: 6200 Gradient: 0.0005215712269221105 , Likelihood: [ 3.20661177e+00 -3.99115691e+03  4.18156665e+03]\n",
      "Epoch: 6400 Gradient: 0.0005245833010053229 , Likelihood: [ 3.14802312e+00 -3.99109529e+03  4.18177668e+03]\n",
      "Epoch: 6600 Gradient: 0.0005267515646537543 , Likelihood: [ 3.10876726e+00 -3.99107911e+03  4.18194339e+03]\n",
      "Epoch: 6800 Gradient: 0.0005282263946521186 , Likelihood: [ 3.08281630e+00 -3.99109409e+03  4.18208040e+03]\n",
      "Epoch: 7000 Gradient: 0.0005291830512570399 , Likelihood: [ 3.06581935e+00 -3.99112999e+03  4.18219746e+03]\n",
      "Epoch: 7200 Gradient: 0.0005297735193013546 , Likelihood: [ 3.05475734e+00 -3.99117973e+03  4.18230131e+03]\n",
      "Epoch: 7400 Gradient: 0.0005301139269739684 , Likelihood: [ 3.04758942e+00 -3.99123855e+03  4.18239651e+03]\n",
      "Epoch: 7600 Gradient: 0.0005302872101477399 , Likelihood: [ 3.04295955e+00 -3.99130326e+03  4.18248607e+03]\n",
      "Epoch: 7800 Gradient: 0.000530350313984814 , Likelihood: [ 3.03997674e+00 -3.99137181e+03  4.18257196e+03]\n",
      "Epoch: 8000 Gradient: 0.0005303414138594188 , Likelihood: [ 3.03805978e+00 -3.99144282e+03  4.18265548e+03]\n",
      "Epoch: 8200 Gradient: 0.0005302857244022832 , Likelihood: [ 3.03683133e+00 -3.99151543e+03  4.18273747e+03]\n",
      "Epoch: 8400 Gradient: 0.0005301997446879353 , Likelihood: [ 3.03604713e+00 -3.99158906e+03  4.18281846e+03]\n",
      "Epoch: 8600 Gradient: 0.0005300942070153599 , Likelihood: [ 3.03554936e+00 -3.99166335e+03  4.18289880e+03]\n",
      "Epoch: 8800 Gradient: 0.0005299760663075601 , Likelihood: [ 3.03523618e+00 -3.99173806e+03  4.18297872e+03]\n",
      "Epoch: 9000 Gradient: 0.0005298498188484181 , Likelihood: [ 3.03504195e+00 -3.99181303e+03  4.18305837e+03]\n",
      "Epoch: 9200 Gradient: 0.0005297183670441252 , Likelihood: [ 3.03492434e+00 -3.99188817e+03  4.18313784e+03]\n",
      "Epoch: 9400 Gradient: 0.0005295835826496254 , Likelihood: [ 3.03485609e+00 -3.99196342e+03  4.18321718e+03]\n",
      "Epoch: 9600 Gradient: 0.0005294466720349338 , Likelihood: [ 3.03481963e+00 -3.99203873e+03  4.18329645e+03]\n",
      "Epoch: 9800 Gradient: 0.0005293084124446984 , Likelihood: [ 3.03480364e+00 -3.99211408e+03  4.18337566e+03]\n",
      "Epoch: 10000 Gradient: 0.0005291693045313372 , Likelihood: [ 3.03480085e+00 -3.99218944e+03  4.18345483e+03]\n",
      "Epoch: 10000 , weights: [ 3.03480085e+00 -3.99218944e+03  4.18345483e+03] , Likelihood:\n"
     ]
    },
    {
     "data": {
      "text/plain": [
       "array([ 3.03480085e+00, -3.99218944e+03,  4.18345483e+03])"
      ]
     },
     "execution_count": 163,
     "metadata": {},
     "output_type": "execute_result"
    }
   ],
   "source": [
    "w = fit_stoch(X_norm, y, verbose=True)\n",
    "w"
   ]
  },
  {
   "cell_type": "code",
   "execution_count": 33,
   "metadata": {},
   "outputs": [
    {
     "name": "stdout",
     "output_type": "stream",
     "text": [
      "Restored weights [3.0348008458978804, -0.052032446333577786, 0.7875479722344626]\n",
      "Weights with y set to 1 [3.8534806169171154, -0.0660689229964611, 1.0]\n"
     ]
    }
   ],
   "source": [
    "w = [w[i] / maxima[i] for i in range(len(w))]\n",
    "print(\"Restored weights\", w)\n",
    "w = [w[j] / w[-1] for j in range(len(w))]\n",
    "print(\"Weights with y set to 1\", w)"
   ]
  },
  {
   "cell_type": "markdown",
   "metadata": {},
   "source": [
    "### Visualizing the results"
   ]
  },
  {
   "cell_type": "code",
   "execution_count": 34,
   "metadata": {},
   "outputs": [
    {
     "data": {
      "image/png": "[encoded data removed]",
      "text/plain": [
       "<Figure size 432x288 with 1 Axes>"
      ]
     },
     "metadata": {
      "needs_background": "light"
     },
     "output_type": "display_data"
    }
   ],
   "source": [
    "plt.scatter(x_fr, y_fr, color='red')\n",
    "plt.scatter(x_en, y_en, color='blue')\n",
    "plt.plot([min(x_fr + x_en), max(x_fr + x_en)],\n",
    "         [-w[1] * min(x_fr + x_en) - w[0], -w[1] * max(x_fr + x_en) - w[0]])\n",
    "plt.show()"
   ]
  },
  {
   "cell_type": "markdown",
   "metadata": {},
   "source": [
    "### Evaluation\n",
    "Evaluate your logistic regression using the leave-one-out cross validation method as with the perceptron"
   ]
  },
  {
   "cell_type": "code",
   "execution_count": 35,
   "metadata": {},
   "outputs": [],
   "source": [
    "# Write your code here\n",
    "from sklearn.model_selection import LeaveOneOut\n",
    "\n",
    "def leave_one_out_cross_val(X, y, fitting_function):\n",
    "    loo = LeaveOneOut()\n",
    "    correct_pred = 0\n",
    "    i = 0\n",
    "    \n",
    "    for train_index, test_index in loo.split(X):\n",
    "        i += 1\n",
    "        X_train = [X[j] for j in train_index]\n",
    "        y_train = [y[j] for j in train_index]\n",
    "        \n",
    "        w = fitting_function(X_train, y_train, 1, verbose=False)\n",
    "        \n",
    "        y_pred = predict(X[test_index[0]],w)\n",
    "        \n",
    "        if y[test_index[0]]-y_pred == 0:\n",
    "            correct_pred += 1\n",
    "            corr_string = 'Correct. '\n",
    "        else:\n",
    "            corr_string = 'Wrong. '\n",
    "        print('Fold', i, 'on', len(X), ': epochs: ??, weights:', w, ':', corr_string )\n",
    "    return correct_pred/len(X)"
   ]
  },
  {
   "cell_type": "code",
   "execution_count": 36,
   "metadata": {},
   "outputs": [
    {
     "name": "stderr",
     "output_type": "stream",
     "text": [
      "C:\\Users\\andre\\Anaconda3\\envs\\ai_env\\lib\\site-packages\\ipykernel_launcher.py:4: RuntimeWarning: overflow encountered in exp\n",
      "  after removing the cwd from sys.path.\n"
     ]
    },
    {
     "name": "stdout",
     "output_type": "stream",
     "text": [
      "Fold 1 on 30 : epochs: ??, weights: [   2. -108. 1641.] : Correct. \n",
      "Fold 2 on 30 : epochs: ??, weights: [-3.90000e+01 -7.20100e+03  1.08956e+05] : Correct. \n",
      "Fold 3 on 30 : epochs: ??, weights: [-5.0000e+00 -2.6000e+03  3.9579e+04] : Correct. \n",
      "Fold 4 on 30 : epochs: ??, weights: [-5.0000e+00 -2.6000e+03  3.9579e+04] : Correct. \n",
      "Fold 5 on 30 : epochs: ??, weights: [-5.0000e+00 -2.6000e+03  3.9579e+04] : Correct. \n",
      "Fold 6 on 30 : epochs: ??, weights: [-5.0000e+00 -2.6000e+03  3.9579e+04] : Correct. \n",
      "Fold 7 on 30 : epochs: ??, weights: [-5.0000e+00 -2.6000e+03  3.9579e+04] : Correct. \n",
      "Fold 8 on 30 : epochs: ??, weights: [-5.0000e+00 -2.6000e+03  3.9579e+04] : Correct. \n",
      "Fold 9 on 30 : epochs: ??, weights: [-5.0000e+00 -2.6000e+03  3.9579e+04] : Correct. \n",
      "Fold 10 on 30 : epochs: ??, weights: [-5.0000e+00 -2.6000e+03  3.9579e+04] : Correct. \n",
      "Fold 11 on 30 : epochs: ??, weights: [-5.0000e+00 -2.6000e+03  3.9579e+04] : Correct. \n",
      "Fold 12 on 30 : epochs: ??, weights: [-5.0000e+00 -2.6000e+03  3.9579e+04] : Correct. \n",
      "Fold 13 on 30 : epochs: ??, weights: [-5.0000e+00 -2.6000e+03  3.9579e+04] : Correct. \n",
      "Fold 14 on 30 : epochs: ??, weights: [-5.0000e+00 -2.6000e+03  3.9579e+04] : Correct. \n",
      "Fold 15 on 30 : epochs: ??, weights: [-5.0000e+00 -2.6000e+03  3.9579e+04] : Correct. \n",
      "Fold 16 on 30 : epochs: ??, weights: [-8.70000e+01 -8.02000e+03  1.21046e+05] : Correct. \n",
      "Fold 17 on 30 : epochs: ??, weights: [    0.  -930. 14080.] : Correct. \n",
      "Fold 18 on 30 : epochs: ??, weights: [-5.0000e+00 -2.6000e+03  3.9579e+04] : Correct. \n",
      "Fold 19 on 30 : epochs: ??, weights: [-5.0000e+00 -2.6000e+03  3.9579e+04] : Correct. \n",
      "Fold 20 on 30 : epochs: ??, weights: [-5.0000e+00 -2.6000e+03  3.9579e+04] : Correct. \n",
      "Fold 21 on 30 : epochs: ??, weights: [-5.0000e+00 -2.6000e+03  3.9579e+04] : Correct. \n",
      "Fold 22 on 30 : epochs: ??, weights: [-5.0000e+00 -2.6000e+03  3.9579e+04] : Correct. \n",
      "Fold 23 on 30 : epochs: ??, weights: [-5.0000e+00 -2.6000e+03  3.9579e+04] : Correct. \n",
      "Fold 24 on 30 : epochs: ??, weights: [-5.0000e+00 -2.6000e+03  3.9579e+04] : Correct. \n",
      "Fold 25 on 30 : epochs: ??, weights: [-5.0000e+00 -2.6000e+03  3.9579e+04] : Correct. \n",
      "Fold 26 on 30 : epochs: ??, weights: [-5.0000e+00 -2.6000e+03  3.9579e+04] : Correct. \n",
      "Fold 27 on 30 : epochs: ??, weights: [-5.0000e+00 -2.6000e+03  3.9579e+04] : Correct. \n",
      "Fold 28 on 30 : epochs: ??, weights: [-5.0000e+00 -2.6000e+03  3.9579e+04] : Correct. \n",
      "Fold 29 on 30 : epochs: ??, weights: [-5.0000e+00 -2.6000e+03  3.9579e+04] : Correct. \n",
      "Fold 30 on 30 : epochs: ??, weights: [-5.0000e+00 -2.6000e+03  3.9579e+04] : Correct. \n",
      "Cross-validation accuracy (batch): 1.0\n"
     ]
    }
   ],
   "source": [
    "stoch_accuracy = leave_one_out_cross_val(X, y, fit_stoch)\n",
    "print('Cross-validation accuracy (batch):', stoch_accuracy)"
   ]
  },
  {
   "cell_type": "markdown",
   "metadata": {},
   "source": [
    "## Visualizing the logistic surface"
   ]
  },
  {
   "cell_type": "code",
   "execution_count": 37,
   "metadata": {},
   "outputs": [],
   "source": [
    "def plot_logistic_surf(x_range, y_range, w_opt):\n",
    "    z_axis = np.array([[0.0] * len(y_range) for i in range(len(x_range))])\n",
    "    x_axis, y_axis = np.meshgrid(x_range, y_range)\n",
    "    z_axis = z_axis.reshape(x_axis.shape)\n",
    "\n",
    "    # We compute the probability surface as a function of x and y\n",
    "    for i in range(len(x_range)):\n",
    "        for j in range(len(y_range)):\n",
    "            z_axis[j, i] = logistic(np.dot([1, x_range[i], y_range[j]], w_opt))\n",
    "    return x_axis, y_axis, z_axis"
   ]
  },
  {
   "cell_type": "code",
   "execution_count": 38,
   "metadata": {},
   "outputs": [
    {
     "name": "stderr",
     "output_type": "stream",
     "text": [
      "C:\\Users\\andre\\Anaconda3\\envs\\ai_env\\lib\\site-packages\\ipykernel_launcher.py:4: RuntimeWarning: overflow encountered in exp\n",
      "  after removing the cwd from sys.path.\n"
     ]
    },
    {
     "data": {
      "image/png": "[encoded data removed]",
      "text/plain": [
       "<Figure size 432x288 with 2 Axes>"
      ]
     },
     "metadata": {
      "needs_background": "light"
     },
     "output_type": "display_data"
    }
   ],
   "source": [
    "x_range = np.linspace(0, 100000, 200)\n",
    "y_range = np.linspace(0, 10000, 200)\n",
    "#w = [2.073225839414742, -0.049125455233437906, 0.7440143556104162]\n",
    "\n",
    "x_axis, y_axis, z_axis = plot_logistic_surf(x_range, y_range, w)\n",
    "\n",
    "fig = plt.figure()\n",
    "ax = Axes3D(fig)\n",
    "# ax = fig.gca(projection='3d')\n",
    "\n",
    "surf = ax.plot_surface(y_axis, x_axis, z_axis, rstride=1, cstride=1, cmap=cm.coolwarm,\n",
    "                       linewidth=0, antialiased=False, alpha=0.2)\n",
    "fig.colorbar(surf, shrink=0.5, aspect=5)\n",
    "# We plot the observations\n",
    "for x, y_class in zip(X, y):\n",
    "    if y_class == 1:\n",
    "        ax.scatter(x[2], x[1], y_class, color='green', marker='x')\n",
    "    else:\n",
    "        ax.scatter(x[2], x[1], y_class, color='red', marker='x')\n",
    "\n",
    "ax.elev = 30 \n",
    "ax.azim = -150\n",
    "plt.show()"
   ]
  },
  {
   "cell_type": "markdown",
   "metadata": {},
   "source": [
    "## Programming logistic regression with popular APIs\n",
    "Should you use logistic regression in a project, you will probably resort to existing libraries. In the next cells, you will apply the logistic regression classification with two popular APIs:\n",
    "1. sklearn\n",
    "2. Keras\n",
    "\n",
    "`sklearn` is included in anaconda.\n",
    "You will install the rest with:\n",
    "```\n",
    "pip install --upgrade keras tensorflow tensorflow-addons \n",
    "```\n",
    "You will read and run the code in the cells below."
   ]
  },
  {
   "cell_type": "markdown",
   "metadata": {},
   "source": [
    "All these APIs are built on numpy and we convert the dataset into numpy if you have not done it already"
   ]
  },
  {
   "cell_type": "code",
   "execution_count": 39,
   "metadata": {},
   "outputs": [],
   "source": [
    "X = np.array(X)\n",
    "X_norm = np.array(X_norm)\n",
    "y = np.array(y)"
   ]
  },
  {
   "cell_type": "markdown",
   "metadata": {},
   "source": [
    "They also handle the intercept so we do not need the first column of ones."
   ]
  },
  {
   "cell_type": "code",
   "execution_count": 40,
   "metadata": {},
   "outputs": [],
   "source": [
    "X = X[:, 1:]\n",
    "X_norm = X_norm[:, 1:]"
   ]
  },
  {
   "cell_type": "markdown",
   "metadata": {},
   "source": [
    "### sklearn\n",
    "Using the dataset of English and French datapoints, we apply logistic regression with the sklearn API. We need the `LogisticRegression` class, the fit() and predict() functions. The weights are in the `coef_` field."
   ]
  },
  {
   "cell_type": "code",
   "execution_count": 41,
   "metadata": {},
   "outputs": [
    {
     "data": {
      "text/plain": [
       "array([[-0.03372363,  0.51169867]])"
      ]
     },
     "execution_count": 41,
     "metadata": {},
     "output_type": "execute_result"
    }
   ],
   "source": [
    "from sklearn.linear_model import LogisticRegression\n",
    "model = LogisticRegression()\n",
    "model = model.fit(X, y)\n",
    "model.coef_"
   ]
  },
  {
   "cell_type": "markdown",
   "metadata": {},
   "source": [
    "We predict the classes of the $\\mathbf{X}$ with the `predict()` function"
   ]
  },
  {
   "cell_type": "code",
   "execution_count": 42,
   "metadata": {},
   "outputs": [
    {
     "data": {
      "text/plain": [
       "array([0., 0., 0., 0., 0., 0., 0., 0., 0., 0., 0., 0., 0., 0., 0., 1., 1.,\n",
       "       1., 1., 1., 1., 1., 1., 1., 1., 1., 1., 1., 1., 1.])"
      ]
     },
     "execution_count": 42,
     "metadata": {},
     "output_type": "execute_result"
    }
   ],
   "source": [
    "model.predict(X)"
   ]
  },
  {
   "cell_type": "markdown",
   "metadata": {},
   "source": [
    "We predict the class probabilities of the $\\mathbf{X}$ with the `predict_proba()` function"
   ]
  },
  {
   "cell_type": "code",
   "execution_count": 43,
   "metadata": {},
   "outputs": [
    {
     "data": {
      "text/plain": [
       "array([[1.00000000e+00, 1.28980319e-30],\n",
       "       [9.99999999e-01, 8.16295157e-10],\n",
       "       [9.91302434e-01, 8.69756611e-03],\n",
       "       [1.00000000e+00, 2.35657080e-12],\n",
       "       [1.00000000e+00, 1.01085544e-22],\n",
       "       [1.00000000e+00, 3.56287478e-11],\n",
       "       [1.00000000e+00, 1.62389438e-24],\n",
       "       [1.00000000e+00, 5.76610689e-17],\n",
       "       [1.00000000e+00, 2.72458519e-12],\n",
       "       [9.94843591e-01, 5.15640906e-03],\n",
       "       [9.89714656e-01, 1.02853437e-02],\n",
       "       [1.00000000e+00, 4.22127774e-11],\n",
       "       [1.00000000e+00, 1.22665951e-41],\n",
       "       [1.00000000e+00, 7.37721442e-22],\n",
       "       [1.00000000e+00, 3.90177203e-16],\n",
       "       [1.33226763e-15, 1.00000000e+00],\n",
       "       [0.00000000e+00, 1.00000000e+00],\n",
       "       [1.92390717e-02, 9.80760928e-01],\n",
       "       [0.00000000e+00, 1.00000000e+00],\n",
       "       [1.01629571e-09, 9.99999999e-01],\n",
       "       [0.00000000e+00, 1.00000000e+00],\n",
       "       [0.00000000e+00, 1.00000000e+00],\n",
       "       [0.00000000e+00, 1.00000000e+00],\n",
       "       [0.00000000e+00, 1.00000000e+00],\n",
       "       [0.00000000e+00, 1.00000000e+00],\n",
       "       [0.00000000e+00, 1.00000000e+00],\n",
       "       [0.00000000e+00, 1.00000000e+00],\n",
       "       [0.00000000e+00, 1.00000000e+00],\n",
       "       [0.00000000e+00, 1.00000000e+00],\n",
       "       [1.80182968e-02, 9.81981703e-01]])"
      ]
     },
     "execution_count": 43,
     "metadata": {},
     "output_type": "execute_result"
    }
   ],
   "source": [
    "model.predict_proba(X)"
   ]
  },
  {
   "cell_type": "markdown",
   "metadata": {},
   "source": [
    "### Keras\n",
    "Using the dataset of English and French datapoints, we apply logistic regression with Keras. We need the `Sequential` and `Dense` classes."
   ]
  },
  {
   "cell_type": "code",
   "execution_count": 44,
   "metadata": {},
   "outputs": [],
   "source": [
    "from tensorflow.keras import Sequential \n",
    "from tensorflow.keras.layers import Dense"
   ]
  },
  {
   "cell_type": "code",
   "execution_count": 45,
   "metadata": {},
   "outputs": [
    {
     "name": "stdout",
     "output_type": "stream",
     "text": [
      "Model: \"sequential_1\"\n",
      "_________________________________________________________________\n",
      "Layer (type)                 Output Shape              Param #   \n",
      "=================================================================\n",
      "dense_1 (Dense)              (None, 1)                 3         \n",
      "=================================================================\n",
      "Total params: 3\n",
      "Trainable params: 3\n",
      "Non-trainable params: 0\n",
      "_________________________________________________________________\n"
     ]
    }
   ],
   "source": [
    "# Write your code here\n",
    "model = Sequential()\n",
    "model.add(Dense(1, input_dim=2, activation='sigmoid'))\n",
    "model.compile(loss='binary_crossentropy',\n",
    "              optimizer='nadam',\n",
    "              metrics=['accuracy'])\n",
    "model.summary()"
   ]
  },
  {
   "cell_type": "markdown",
   "metadata": {},
   "source": [
    "We fit the model"
   ]
  },
  {
   "cell_type": "code",
   "execution_count": 46,
   "metadata": {},
   "outputs": [
    {
     "data": {
      "text/plain": [
       "<tensorflow.python.keras.callbacks.History at 0x17562f39588>"
      ]
     },
     "execution_count": 46,
     "metadata": {},
     "output_type": "execute_result"
    }
   ],
   "source": [
    "model.fit(X, y, epochs=1500, batch_size=4, verbose=0)"
   ]
  },
  {
   "cell_type": "code",
   "execution_count": 47,
   "metadata": {},
   "outputs": [
    {
     "data": {
      "text/plain": [
       "array([0., 0., 0., 0., 0., 0., 0., 0., 0., 0., 0., 0., 0., 0., 0., 1., 1.,\n",
       "       1., 1., 1., 1., 1., 1., 1., 1., 1., 1., 1., 1., 1.])"
      ]
     },
     "execution_count": 47,
     "metadata": {},
     "output_type": "execute_result"
    }
   ],
   "source": [
    "y"
   ]
  },
  {
   "cell_type": "code",
   "execution_count": 48,
   "metadata": {},
   "outputs": [
    {
     "data": {
      "text/plain": [
       "array([[5.3033680e-16],\n",
       "       [4.9225162e-07],\n",
       "       [2.4933219e-02],\n",
       "       [9.1140890e-08],\n",
       "       [4.0639540e-12],\n",
       "       [1.6171425e-07],\n",
       "       [1.8279293e-15],\n",
       "       [5.7901239e-10],\n",
       "       [1.6998268e-07],\n",
       "       [5.6591332e-03],\n",
       "       [1.7662346e-03],\n",
       "       [1.9133843e-07],\n",
       "       [4.7211987e-23],\n",
       "       [2.5740950e-14],\n",
       "       [1.7362723e-08],\n",
       "       [9.9998403e-01],\n",
       "       [1.0000000e+00],\n",
       "       [5.4050738e-01],\n",
       "       [1.0000000e+00],\n",
       "       [9.9711180e-01],\n",
       "       [1.0000000e+00],\n",
       "       [9.9999928e-01],\n",
       "       [1.0000000e+00],\n",
       "       [1.0000000e+00],\n",
       "       [1.0000000e+00],\n",
       "       [1.0000000e+00],\n",
       "       [1.0000000e+00],\n",
       "       [1.0000000e+00],\n",
       "       [1.0000000e+00],\n",
       "       [4.6244681e-01]], dtype=float32)"
      ]
     },
     "execution_count": 48,
     "metadata": {},
     "output_type": "execute_result"
    }
   ],
   "source": [
    "model.predict(X)"
   ]
  },
  {
   "cell_type": "code",
   "execution_count": 49,
   "metadata": {},
   "outputs": [
    {
     "name": "stderr",
     "output_type": "stream",
     "text": [
      "C:\\Users\\andre\\Anaconda3\\envs\\ai_env\\lib\\site-packages\\tensorflow\\python\\keras\\engine\\sequential.py:450: UserWarning: `model.predict_classes()` is deprecated and will be removed after 2021-01-01. Please use instead:* `np.argmax(model.predict(x), axis=-1)`,   if your model does multi-class classification   (e.g. if it uses a `softmax` last-layer activation).* `(model.predict(x) > 0.5).astype(\"int32\")`,   if your model does binary classification   (e.g. if it uses a `sigmoid` last-layer activation).\n",
      "  warnings.warn('`model.predict_classes()` is deprecated and '\n"
     ]
    },
    {
     "data": {
      "text/plain": [
       "array([[0],\n",
       "       [0],\n",
       "       [0],\n",
       "       [0],\n",
       "       [0],\n",
       "       [0],\n",
       "       [0],\n",
       "       [0],\n",
       "       [0],\n",
       "       [0],\n",
       "       [0],\n",
       "       [0],\n",
       "       [0],\n",
       "       [0],\n",
       "       [0],\n",
       "       [1],\n",
       "       [1],\n",
       "       [1],\n",
       "       [1],\n",
       "       [1],\n",
       "       [1],\n",
       "       [1],\n",
       "       [1],\n",
       "       [1],\n",
       "       [1],\n",
       "       [1],\n",
       "       [1],\n",
       "       [1],\n",
       "       [1],\n",
       "       [0]])"
      ]
     },
     "execution_count": 49,
     "metadata": {},
     "output_type": "execute_result"
    }
   ],
   "source": [
    "model.predict_classes(X)"
   ]
  },
  {
   "cell_type": "markdown",
   "metadata": {},
   "source": [
    "If you do not obtain a correct classification, rerun the training with more epochs."
   ]
  },
  {
   "cell_type": "markdown",
   "metadata": {},
   "source": [
    "## Reading\n",
    "You will read the article *An overview of gradient descent optimization algorithms* by Ruder (2017) and you will outline the main characteristics of all the optimization algorithms the author describes. This part should be of about one to two pages. Link to the article: https://arxiv.org/abs/1609.04747\n",
    "\n",
    "If you understand French, or using Google translate, you may also want to read the original article on gradient descent by Cauchy here:  https://gallica.bnf.fr/ark:/12148/bpt6k2982c/f540.item.\n"
   ]
  },
  {
   "cell_type": "markdown",
   "metadata": {},
   "source": [
    "### Report\n",
    "\n",
    "The assignment must be documented in the report, which should contain the following:\n",
    "\n",
    "*   The name of the author, the title of the assignment, and any relevant information on the front page;\n",
    "*   A presentation of the assignment and the possible improvements you would have brought;\n",
    "*   A presentation of your implementation;\n",
    "*   A print-out of the example set(s) and the resulting weight vectors;\n",
    "*   Comments on the results you have obtained, including your cross validation;\n",
    "*   A short dissertation on the optimization algorithms from Ruder's paper.\n",
    "\n",
    "Please, typeset and format your report consistently. You must use Latex. Documents written using MS Word or any similar format will not be considered.\n",
    "\n",
    "You may have a look at the code in the textbook code repository (or any other implementations), but the code you hand in must be your work."
   ]
  },
  {
   "cell_type": "markdown",
   "metadata": {},
   "source": [
    "## Submission\n",
    "Submit the notebook and the report to Canvas (two files). Do not include the code printout in the report, but only comments on its interesting parts. You will submit the notebook as a separate file."
   ]
  },
  {
   "cell_type": "code",
   "execution_count": null,
   "metadata": {},
   "outputs": [],
   "source": []
  }
 ],
 "metadata": {
  "kernelspec": {
   "display_name": "Python 3",
   "language": "python",
   "name": "python3"
  },
  "language_info": {
   "codemirror_mode": {
    "name": "ipython",
    "version": 3
   },
   "file_extension": ".py",
   "mimetype": "text/x-python",
   "name": "python",
   "nbconvert_exporter": "python",
   "pygments_lexer": "ipython3",
   "version": "3.7.9"
  }
 },
 "nbformat": 4,
 "nbformat_minor": 5
}
